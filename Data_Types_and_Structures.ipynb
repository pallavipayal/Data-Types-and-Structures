{
  "nbformat": 4,
  "nbformat_minor": 0,
  "metadata": {
    "colab": {
      "provenance": []
    },
    "kernelspec": {
      "name": "python3",
      "display_name": "Python 3"
    },
    "language_info": {
      "name": "python"
    }
  },
  "cells": [
    {
      "cell_type": "markdown",
      "source": [
        "#Data Types and Structures"
      ],
      "metadata": {
        "id": "CtzOhRIYeJJO"
      }
    },
    {
      "cell_type": "markdown",
      "source": [
        "##Assignment Questions"
      ],
      "metadata": {
        "id": "TDNd1V4leJOS"
      }
    },
    {
      "cell_type": "markdown",
      "source": [
        "####1. What are data structures, and why are they important?"
      ],
      "metadata": {
        "id": "h6qtWt_seJTK"
      }
    },
    {
      "cell_type": "markdown",
      "source": [
        "=> Data structures are specialized ways of organizing, managing, and storing data in a computer's memory or on disk so that it can be accessed and used efficiently. They define how data elements are related to each other and what operations can be performed on them. Think of them as blueprints or templates for data organization."
      ],
      "metadata": {
        "id": "YK-tVmU-eJbi"
      }
    },
    {
      "cell_type": "markdown",
      "source": [
        "####2.  Explain the difference between mutable and immutable data types with examples."
      ],
      "metadata": {
        "id": "KjefPLtjeJf6"
      }
    },
    {
      "cell_type": "markdown",
      "source": [
        "=>  The difference between mutable and immutable data types lies in whether their value can be changed after they are created.\n",
        "\n",
        "Mutable Data Types 📝\n",
        "Mutable data types are those whose value or state can be modified after they are initialized. When you modify a mutable object, you're changing the object in its existing memory location.\n",
        "\n",
        "Immutable Data Types 🔒\n",
        "Immutable data types are those whose value cannot be changed once they are created. Any operation that appears to modify an immutable object actually creates a completely new object in memory with the updated value.\n",
        "\n"
      ],
      "metadata": {
        "id": "v7bvYrKEeJjr"
      }
    },
    {
      "cell_type": "markdown",
      "source": [
        "###3.  What are the main differences between lists and tuples in Python?"
      ],
      "metadata": {
        "id": "0zD_dsmjeJni"
      }
    },
    {
      "cell_type": "markdown",
      "source": [
        "=> The main differences between lists and tuples in Python lie in their mutability, syntax, performance, and use cases."
      ],
      "metadata": {
        "id": "ZL9C1WTSeJrs"
      }
    },
    {
      "cell_type": "markdown",
      "source": [
        "###4. Describe how dictionaries store data."
      ],
      "metadata": {
        "id": "JcCbKlAbeJwU"
      }
    },
    {
      "cell_type": "markdown",
      "source": [
        "=> ictionaries store data as key-value pairs. Imagine a physical dictionary where each word (the key) has a corresponding definition (the value). Just like you look up a word to find its definition, you use a key to retrieve its associated value in a dictionary."
      ],
      "metadata": {
        "id": "RTpKQfx-eJ38"
      }
    },
    {
      "cell_type": "markdown",
      "source": [
        "###5. Why might you use a set instead of a list in Python?"
      ],
      "metadata": {
        "id": "BoQJdeg5eJ8q"
      }
    },
    {
      "cell_type": "markdown",
      "source": [
        "=> We might use a set instead of a list in Python primarily for efficient membership testing, eliminating duplicate elements, and performing mathematical set operations."
      ],
      "metadata": {
        "id": "tpPs4-voeKAv"
      }
    },
    {
      "cell_type": "markdown",
      "source": [
        "###6. What is a string in Python, and how is it different from a list?"
      ],
      "metadata": {
        "id": "mQz-RnpSeKGC"
      }
    },
    {
      "cell_type": "markdown",
      "source": [
        "=> A string in Python is a sequence of characters, while a list is a sequence of arbitrary Python objects. Both are ordered and can be iterated through, but they differ fundamentally in their mutability, what they can contain, and how they are typically used."
      ],
      "metadata": {
        "id": "3RhvRO_2eKKc"
      }
    },
    {
      "cell_type": "markdown",
      "source": [
        "###7. How do tuples ensure data integrity in Python?"
      ],
      "metadata": {
        "id": "qkYLgc6deKO7"
      }
    },
    {
      "cell_type": "markdown",
      "source": [
        "=> Tuples ensure data integrity in Python primarily because they are immutable. This core characteristic means that once a tuple is created, its contents cannot be changed, added to, or removed from."
      ],
      "metadata": {
        "id": "Ot_25lqmeKXk"
      }
    },
    {
      "cell_type": "markdown",
      "source": [
        "###8. What is a hash table, and how does it relate to dictionaries in Python?"
      ],
      "metadata": {
        "id": "7Pwc8OSNeKdE"
      }
    },
    {
      "cell_type": "markdown",
      "source": [
        "=> A hash table is a data structure that efficiently stores and retrieves data using a mechanism called hashing. It directly relates to dictionaries in Python because Python dictionaries are implemented using hash tables."
      ],
      "metadata": {
        "id": "RF_mXqcjeKhm"
      }
    },
    {
      "cell_type": "markdown",
      "source": [
        "###9. Can lists contain different data types in Python?"
      ],
      "metadata": {
        "id": "o_IzRLLteKmT"
      }
    },
    {
      "cell_type": "markdown",
      "source": [
        "=> Yes, lists in Python can contain different data types. This is a key feature of Python lists, making them very flexible.\n",
        "\n",
        "\n"
      ],
      "metadata": {
        "id": "ZqGMQ6CseKqj"
      }
    },
    {
      "cell_type": "markdown",
      "source": [
        "###10. Explain why strings are immutable in Python."
      ],
      "metadata": {
        "id": "Whi6uT-meKvO"
      }
    },
    {
      "cell_type": "markdown",
      "source": [
        "=> Strings are immutable in Python, meaning once created, you can't change their individual characters or their length. This design choice offers several significant advantages for how Python manages and uses string data.\n",
        "\n",
        "\n"
      ],
      "metadata": {
        "id": "cRbvz-INeKz8"
      }
    },
    {
      "cell_type": "markdown",
      "source": [
        "###11. What advantages do dictionaries offer over lists for certain tasks?"
      ],
      "metadata": {
        "id": "0lwV0wx6eK90"
      }
    },
    {
      "cell_type": "markdown",
      "source": [
        "=> Dictionaries offer significant advantages over lists for certain tasks primarily due to their key-value storage and efficient lookup capabilities.\n",
        "\n",
        "The order of elements is crucial and needs to be preserved.\n",
        "\n",
        "You need to access elements by their numerical position (index).\n",
        "\n",
        "You need to store duplicate elements.\n",
        "\n",
        "The primary operation is iterating over all elements in a defined sequence.\n",
        "\n",
        "In conclusion, dictionaries provide a powerful way to store and access data when you need efficient lookups based on descriptive keys, represent one-to-one mappings, and ensure key uniqueness."
      ],
      "metadata": {
        "id": "hLWpdhdweLDc"
      }
    },
    {
      "cell_type": "markdown",
      "source": [
        "###12.  Describe a scenario where using a tuple would be preferable over a list."
      ],
      "metadata": {
        "id": "pbYfZFWmDLu-"
      }
    },
    {
      "cell_type": "markdown",
      "source": [
        "=> You'd prefer a tuple over a list when you need to represent a fixed collection of related items that shouldn't change, such as a record where the order and content are immutable.\n",
        "\n",
        "Consider a scenario where you need to store geographical coordinates for various locations, like the latitude and longitude of a city or a point of interest."
      ],
      "metadata": {
        "id": "pqs82JSgDMCb"
      }
    },
    {
      "cell_type": "markdown",
      "source": [
        "###13. How do sets handle duplicate values in Python?"
      ],
      "metadata": {
        "id": "osS-UtFJDMSy"
      }
    },
    {
      "cell_type": "markdown",
      "source": [
        "=> Sets in Python automatically handle duplicate values by ensuring that each element in the set is unique. If you try to add a duplicate value to a set, it simply ignores the addition; no error is raised, and the set's content remains unchanged.\n",
        "\n"
      ],
      "metadata": {
        "id": "2DfWSoMUDMgs"
      }
    },
    {
      "cell_type": "markdown",
      "source": [
        "###14. How does the “in” keyword work differently for lists and dictionaries?"
      ],
      "metadata": {
        "id": "E23uVcCVDMqa"
      }
    },
    {
      "cell_type": "markdown",
      "source": [
        "=> The \"in\" keyword in Python checks for the presence of an element within a collection. Its behavior differs between lists and dictionaries in terms of what it searches for and the efficiency of that search."
      ],
      "metadata": {
        "id": "ZLg-AQNYDM0D"
      }
    },
    {
      "cell_type": "markdown",
      "source": [
        "###15.  Can you modify the elements of a tuple? Explain why or why not."
      ],
      "metadata": {
        "id": "ZiFQU3j-DM_C"
      }
    },
    {
      "cell_type": "markdown",
      "source": [
        "=> No, you cannot modify the elements of a tuple after it has been created. This is because tuples are immutable in Python.\n",
        "\n",
        "Data Integrity: Guarantees that the data within the tuple will not change unexpectedly.\n",
        "\n",
        "Thread Safety: Immutable objects are inherently safe in multi-threaded environments as they cannot be simultaneously modified.\n",
        "\n",
        "Hashability: Immutable objects (if their contents are also immutable) can be hashed and thus used as keys in dictionaries or elements in sets, which requires their hash value to remain constant.\n",
        "\n",
        "Performance Optimizations: Python can make certain internal optimizations knowing that the content of a tuple won't change.\n",
        "\n",
        "So, while it might seem restrictive, the immutability of tuples is a deliberate design choice that enhances data integrity, predictability, and efficiency in Python programs for specific use cases."
      ],
      "metadata": {
        "id": "I3mezC2QDOLD"
      }
    },
    {
      "cell_type": "markdown",
      "source": [
        "###16. What is a nested dictionary, and give an example of its use case?"
      ],
      "metadata": {
        "id": "_4tt5Fd2DOT0"
      }
    },
    {
      "cell_type": "markdown",
      "source": [
        "=> A nested dictionary is a dictionary where at least one of its values is itself another dictionary. It allows you to organize and store hierarchical data, similar to how folders contain subfolders on a computer.\n",
        "\n",
        "This hierarchical organization makes nested dictionaries very powerful for managing complex datasets where items have multiple attributes, and some of those attributes are themselves structured collections."
      ],
      "metadata": {
        "id": "iEAeCIvYDOcc"
      }
    },
    {
      "cell_type": "markdown",
      "source": [
        "###17.  Describe the time complexity of accessing elements in a dictionary."
      ],
      "metadata": {
        "id": "uLe_FpdrDOiB"
      }
    },
    {
      "cell_type": "markdown",
      "source": [
        "=> Accessing elements in a dictionary typically has a time complexity of O(1), meaning it takes constant time.\n",
        "\n",
        "Python's built-in hash functions are very good, and its collision resolution strategies (often a form of open addressing) are highly optimized. Therefore, in practical applications, you can almost always rely on dictionary lookups being extremely fast and close to constant time, even for very large dictionaries."
      ],
      "metadata": {
        "id": "FcLNpn7cDOny"
      }
    },
    {
      "cell_type": "markdown",
      "source": [
        "###18.  In what situations are lists preferred over dictionaries?"
      ],
      "metadata": {
        "id": "AGF2tl7_DOxL"
      }
    },
    {
      "cell_type": "markdown",
      "source": [
        "=> Lists are preferred over dictionaries in Python when the order of elements is important or when you need to store and access data by numerical index."
      ],
      "metadata": {
        "id": "LDm4yqcLDO1r"
      }
    },
    {
      "cell_type": "markdown",
      "source": [
        "###19. Why are dictionaries considered unordered, and how does that affect data retrieval?"
      ],
      "metadata": {
        "id": "rShupizKDP_W"
      }
    },
    {
      "cell_type": "markdown",
      "source": [
        "=> Dictionaries are considered unordered because, historically, their internal implementation did not guarantee any specific order of elements. This characteristic primarily affects how you iterate through a dictionary, not how you retrieve individual data items by their key.\n",
        "\n"
      ],
      "metadata": {
        "id": "7UURd5XGDQCc"
      }
    },
    {
      "cell_type": "markdown",
      "source": [
        "###20. Explain the difference between a list and a dictionary in terms of data retrieval."
      ],
      "metadata": {
        "id": "1qFr2It3DQGC"
      }
    },
    {
      "cell_type": "markdown",
      "source": [
        "=> The difference in data retrieval between lists and dictionaries lies in the method of access and the underlying efficiency.\n",
        "\n",
        "Lists: Positional Retrieval 📍\n",
        "Lists retrieve data based on its numerical position or index.\n",
        "\n",
        "Method of Access: You access elements by their integer index (e.g., my_list[0], my_list[3]).\n",
        "\n",
        "Search Mechanism:\n",
        "\n",
        "If you know the index, retrieval is O(1) (constant time), meaning it's very fast regardless of list size.\n",
        "\n",
        "If you need to find an element by its value (e.g., if 'apple' in my_list:), Python performs a linear search from the beginning of the list.\n",
        "\n",
        "Efficiency for Value Search: This linear search is O(n) (linear time) in the worst case, where 'n' is the number of elements. The time taken increases proportionally with the size of the list because, on average, Python has to check half the list (or the whole list if the item isn't present).\n",
        "\n",
        "Dictionaries: Key-Based Retrieval 🔑\n",
        "Dictionaries retrieve data based on a unique key associated with each value.\n",
        "\n",
        "Method of Access: You access values using their corresponding keys (e.g., my_dict['name'], my_dict[123]).\n",
        "\n",
        "Search Mechanism: Dictionaries use hash tables. When you provide a key, a hash function quickly computes a memory location where the associated value is stored. This allows for direct access.\n",
        "\n",
        "Efficiency for Key Search: Retrieval by key is O(1) (constant time) on average. This means it's extremely fast, regardless of how many items are in the dictionary. The time to find a value by its key does not significantly increase with the dictionary's size."
      ],
      "metadata": {
        "id": "rfk_Mz3zDQI1"
      }
    },
    {
      "cell_type": "markdown",
      "source": [
        "##Practical Questions"
      ],
      "metadata": {
        "id": "Onu01HfZDQMT"
      }
    },
    {
      "cell_type": "code",
      "source": [
        "#1.\n",
        "my_name = \"Pallavi Payal\"\n",
        "print(my_name)"
      ],
      "metadata": {
        "colab": {
          "base_uri": "https://localhost:8080/"
        },
        "id": "jz2LxSuFGp0Z",
        "outputId": "e199cca1-7d23-48b7-dba7-dd8e4c87d135"
      },
      "execution_count": 1,
      "outputs": [
        {
          "output_type": "stream",
          "name": "stdout",
          "text": [
            "Pallavi Payal\n"
          ]
        }
      ]
    },
    {
      "cell_type": "code",
      "source": [
        "#2.\n",
        "\n",
        "my_string = \"Hello World\"\n",
        "\n",
        "string_length = len(my_string)\n",
        "\n",
        "print(f\"The length of the string '{my_string}' is: {string_length}\")\n"
      ],
      "metadata": {
        "colab": {
          "base_uri": "https://localhost:8080/"
        },
        "id": "ti_EXHBeGq4l",
        "outputId": "2b5ed68c-de60-4123-ae83-61ab4585598c"
      },
      "execution_count": 2,
      "outputs": [
        {
          "output_type": "stream",
          "name": "stdout",
          "text": [
            "The length of the string 'Hello World' is: 11\n"
          ]
        }
      ]
    },
    {
      "cell_type": "code",
      "source": [
        "#3.\n",
        "\n",
        "original_string = \"Python Programming\"\n",
        "\n",
        "sliced_string = original_string[0:3]\n",
        "\n",
        "print(f\"Original string: '{original_string}'\")\n",
        "print(f\"Sliced first 3 characters: '{sliced_string}'\")\n"
      ],
      "metadata": {
        "colab": {
          "base_uri": "https://localhost:8080/"
        },
        "id": "-4EuEKHMGq7c",
        "outputId": "2e641af4-c06b-4ae5-d556-62f186d421ed"
      },
      "execution_count": 3,
      "outputs": [
        {
          "output_type": "stream",
          "name": "stdout",
          "text": [
            "Original string: 'Python Programming'\n",
            "Sliced first 3 characters: 'Pyt'\n"
          ]
        }
      ]
    },
    {
      "cell_type": "code",
      "source": [
        "#4.\n",
        "\n",
        "original_string = \"hello\"\n",
        "\n",
        "uppercase_string = original_string.upper()\n",
        "\n",
        "print(f\"Original string: '{original_string}'\")\n",
        "print(f\"Uppercase string: '{uppercase_string}'\")\n"
      ],
      "metadata": {
        "colab": {
          "base_uri": "https://localhost:8080/"
        },
        "id": "1YtuBilNGq-8",
        "outputId": "edd5d11a-1f90-44a3-b01f-7e05e5c8e127"
      },
      "execution_count": 4,
      "outputs": [
        {
          "output_type": "stream",
          "name": "stdout",
          "text": [
            "Original string: 'hello'\n",
            "Uppercase string: 'HELLO'\n"
          ]
        }
      ]
    },
    {
      "cell_type": "code",
      "source": [
        "#5.\n",
        "\n",
        "original_string = \"I like apple\"\n",
        "\n",
        "modified_string = original_string.replace(\"apple\", \"orange\")\n",
        "\n",
        "print(f\"Original string: '{original_string}'\")\n",
        "print(f\"Modified string: '{modified_string}'\")\n"
      ],
      "metadata": {
        "colab": {
          "base_uri": "https://localhost:8080/"
        },
        "id": "75wBPiK-GrB2",
        "outputId": "0fa9221a-cfa2-4cf3-d6d7-a17362b41c1f"
      },
      "execution_count": 5,
      "outputs": [
        {
          "output_type": "stream",
          "name": "stdout",
          "text": [
            "Original string: 'I like apple'\n",
            "Modified string: 'I like orange'\n"
          ]
        }
      ]
    },
    {
      "cell_type": "code",
      "source": [
        "#6.\n",
        "numbers = [1,2,3,4,5]\n",
        "print(numbers)"
      ],
      "metadata": {
        "colab": {
          "base_uri": "https://localhost:8080/"
        },
        "id": "tzQRVRhhGrE8",
        "outputId": "47bcb2fb-e8ed-4081-c535-6e448f6de870"
      },
      "execution_count": 6,
      "outputs": [
        {
          "output_type": "stream",
          "name": "stdout",
          "text": [
            "[1, 2, 3, 4, 5]\n"
          ]
        }
      ]
    },
    {
      "cell_type": "code",
      "source": [
        "#7.\n",
        "\n",
        "my_list = [1, 2, 3, 4]\n",
        "\n",
        "my_list.append(10)\n",
        "\n",
        "print(my_list)\n"
      ],
      "metadata": {
        "colab": {
          "base_uri": "https://localhost:8080/"
        },
        "id": "hoSz9ZUWGrIE",
        "outputId": "d8098676-e35a-47ae-8105-7cec21984218"
      },
      "execution_count": 7,
      "outputs": [
        {
          "output_type": "stream",
          "name": "stdout",
          "text": [
            "[1, 2, 3, 4, 10]\n"
          ]
        }
      ]
    },
    {
      "cell_type": "code",
      "source": [
        "#8.\n",
        "\n",
        "my_list = [1, 2, 3, 4, 5]\n",
        "\n",
        "my_list.remove(3)\n",
        "\n",
        "print(my_list)\n"
      ],
      "metadata": {
        "colab": {
          "base_uri": "https://localhost:8080/"
        },
        "id": "Tbk_qG7AGrLE",
        "outputId": "3eafaf93-5257-41bf-8c67-4513da879bab"
      },
      "execution_count": 8,
      "outputs": [
        {
          "output_type": "stream",
          "name": "stdout",
          "text": [
            "[1, 2, 4, 5]\n"
          ]
        }
      ]
    },
    {
      "cell_type": "code",
      "source": [
        "#9.\n",
        "\n",
        "my_list = ['a', 'b', 'c', 'd']\n",
        "\n",
        "second_element = my_list[1]\n",
        "\n",
        "print(f\"The second element of the list is: '{second_element}'\")\n"
      ],
      "metadata": {
        "colab": {
          "base_uri": "https://localhost:8080/"
        },
        "id": "u4NJCD6OGrN9",
        "outputId": "5fc87d20-1d05-43f6-ebb4-fd51382a261a"
      },
      "execution_count": 9,
      "outputs": [
        {
          "output_type": "stream",
          "name": "stdout",
          "text": [
            "The second element of the list is: 'b'\n"
          ]
        }
      ]
    },
    {
      "cell_type": "code",
      "source": [
        "#10.\n",
        "my_list = [10, 20, 30, 40, 50]\n",
        "\n",
        "print(f\"Original list: {my_list}\")\n",
        "\n",
        "list_to_reverse_in_place = my_list[:]\n",
        "list_to_reverse_in_place.reverse()\n",
        "print(f\"Reversed list (using .reverse()): {list_to_reverse_in_place}\")\n",
        "\n",
        "new_reversed_list = my_list[::-1]\n",
        "print(f\"Reversed list (using slicing [::-1]): {new_reversed_list}\")\n",
        "\n",
        "print(f\"Original list after slicing: {my_list}\")\n"
      ],
      "metadata": {
        "colab": {
          "base_uri": "https://localhost:8080/"
        },
        "id": "tI9kNJcsGrRW",
        "outputId": "f5aa6bc3-9b95-4eb3-c35f-a405922080a9"
      },
      "execution_count": 10,
      "outputs": [
        {
          "output_type": "stream",
          "name": "stdout",
          "text": [
            "Original list: [10, 20, 30, 40, 50]\n",
            "Reversed list (using .reverse()): [50, 40, 30, 20, 10]\n",
            "Reversed list (using slicing [::-1]): [50, 40, 30, 20, 10]\n",
            "Original list after slicing: [10, 20, 30, 40, 50]\n"
          ]
        }
      ]
    },
    {
      "cell_type": "code",
      "source": [
        "#11.\n",
        "my_tuple = (100,200,300,400)\n",
        "print(my_tuple)"
      ],
      "metadata": {
        "colab": {
          "base_uri": "https://localhost:8080/"
        },
        "id": "27DBoRVVGrUM",
        "outputId": "4fd2c801-2a9a-41d5-d4df-c021b35ea925"
      },
      "execution_count": 11,
      "outputs": [
        {
          "output_type": "stream",
          "name": "stdout",
          "text": [
            "(100, 200, 300, 400)\n"
          ]
        }
      ]
    },
    {
      "cell_type": "code",
      "source": [
        "#12.\n",
        "my_tuple = ('red', 'green', 'blue', 'yellow')\n",
        "\n",
        "second_to_last_element = my_tuple[-2]\n",
        "\n",
        "print(f\"The original tuple is: {my_tuple}\")\n",
        "print(f\"The second-to-last element is: '{second_to_last_element}'\")\n"
      ],
      "metadata": {
        "colab": {
          "base_uri": "https://localhost:8080/"
        },
        "id": "eHpyCEwuGrXe",
        "outputId": "0a6c9292-b515-40f1-885f-38aff09b7256"
      },
      "execution_count": 12,
      "outputs": [
        {
          "output_type": "stream",
          "name": "stdout",
          "text": [
            "The original tuple is: ('red', 'green', 'blue', 'yellow')\n",
            "The second-to-last element is: 'blue'\n"
          ]
        }
      ]
    },
    {
      "cell_type": "code",
      "source": [
        "#13.\n",
        "my_tuple = (10, 20, 5, 15)\n",
        "\n",
        "minimum_number = min(my_tuple)\n",
        "\n",
        "print(f\"The tuple is: {my_tuple}\")\n",
        "print(f\"The minimum number in the tuple is: {minimum_number}\")\n"
      ],
      "metadata": {
        "colab": {
          "base_uri": "https://localhost:8080/"
        },
        "id": "h_YyI1mcGral",
        "outputId": "1ee86891-24e4-4233-bb8b-d98e9dd737fb"
      },
      "execution_count": 13,
      "outputs": [
        {
          "output_type": "stream",
          "name": "stdout",
          "text": [
            "The tuple is: (10, 20, 5, 15)\n",
            "The minimum number in the tuple is: 5\n"
          ]
        }
      ]
    },
    {
      "cell_type": "code",
      "source": [
        "#14.\n",
        "my_tuple = ('dog', 'cat', 'rabbit')\n",
        "\n",
        "try:\n",
        "    index_of_cat = my_tuple.index('cat')\n",
        "    print(f\"The tuple is: {my_tuple}\")\n",
        "    print(f\"The index of 'cat' is: {index_of_cat}\")\n",
        "except ValueError:\n",
        "    print(\"The element 'cat' was not found in the tuple.\")\n"
      ],
      "metadata": {
        "colab": {
          "base_uri": "https://localhost:8080/"
        },
        "id": "8V5oWOFBGrdE",
        "outputId": "5edf65f0-9778-4a2e-eab8-4f4cfbbc874b"
      },
      "execution_count": 14,
      "outputs": [
        {
          "output_type": "stream",
          "name": "stdout",
          "text": [
            "The tuple is: ('dog', 'cat', 'rabbit')\n",
            "The index of 'cat' is: 1\n"
          ]
        }
      ]
    },
    {
      "cell_type": "code",
      "source": [
        "#15.\n",
        "fruits_tuple = ('apple', 'banana', 'orange')\n",
        "\n",
        "is_kiwi_present = \"kiwi\" in fruits_tuple\n",
        "\n",
        "print(f\"The fruits tuple is: {fruits_tuple}\")\n",
        "print(f\"Is 'kiwi' in the tuple? {is_kiwi_present}\")\n",
        "\n",
        "if \"kiwi\" in fruits_tuple:\n",
        "    print(\"Yes, 'kiwi' is one of the fruits!\")\n",
        "else:\n",
        "    print(\"No, 'kiwi' is not in this tuple of fruits.\")\n"
      ],
      "metadata": {
        "colab": {
          "base_uri": "https://localhost:8080/"
        },
        "id": "7TfrVe5eGrgL",
        "outputId": "c05e4d56-8422-4adc-ef4d-7a290b80e86e"
      },
      "execution_count": 15,
      "outputs": [
        {
          "output_type": "stream",
          "name": "stdout",
          "text": [
            "The fruits tuple is: ('apple', 'banana', 'orange')\n",
            "Is 'kiwi' in the tuple? False\n",
            "No, 'kiwi' is not in this tuple of fruits.\n"
          ]
        }
      ]
    },
    {
      "cell_type": "code",
      "source": [
        "#16.\n",
        "my_set = {'a','b','c'}\n",
        "\n",
        "print(my_set)\n"
      ],
      "metadata": {
        "colab": {
          "base_uri": "https://localhost:8080/"
        },
        "id": "7lLq1bWwGrjc",
        "outputId": "37a70589-f984-4f30-86c5-6a289e4275dc"
      },
      "execution_count": 18,
      "outputs": [
        {
          "output_type": "stream",
          "name": "stdout",
          "text": [
            "{'b', 'c', 'a'}\n"
          ]
        }
      ]
    },
    {
      "cell_type": "code",
      "source": [
        "#17.\n",
        "my_set = {1, 2, 3, 4, 5}\n",
        "print(f\"Original set: {my_set}\")\n",
        "\n",
        "my_set.clear()\n",
        "\n",
        "print(f\"Set after clearing: {my_set}\")\n"
      ],
      "metadata": {
        "colab": {
          "base_uri": "https://localhost:8080/"
        },
        "id": "XSOZSqULGrmt",
        "outputId": "a19645e4-0ec3-46a4-a264-761152afac67"
      },
      "execution_count": 19,
      "outputs": [
        {
          "output_type": "stream",
          "name": "stdout",
          "text": [
            "Original set: {1, 2, 3, 4, 5}\n",
            "Set after clearing: set()\n"
          ]
        }
      ]
    },
    {
      "cell_type": "code",
      "source": [
        "#18.\n",
        "my_set = {1, 2, 3, 4}\n",
        "print(f\"Original set: {my_set}\")\n",
        "\n",
        "try:\n",
        "    my_set.remove(4)\n",
        "    print(f\"Set after removing 4: {my_set}\")\n",
        "except KeyError:\n",
        "    print(\"Element 4 was not found in the set.\")\n",
        "\n",
        "another_set = {10, 20, 30}\n",
        "print(f\"\\nAnother set: {another_set}\")\n",
        "another_set.discard(20)\n",
        "another_set.discard(50)\n",
        "print(f\"Another set after discarding 20 and 50: {another_set}\")\n"
      ],
      "metadata": {
        "colab": {
          "base_uri": "https://localhost:8080/"
        },
        "id": "Vy6sx8_mGrp0",
        "outputId": "ce1f736d-566f-4ac4-bdaf-12f56cae5e66"
      },
      "execution_count": 20,
      "outputs": [
        {
          "output_type": "stream",
          "name": "stdout",
          "text": [
            "Original set: {1, 2, 3, 4}\n",
            "Set after removing 4: {1, 2, 3}\n",
            "\n",
            "Another set: {10, 20, 30}\n",
            "Another set after discarding 20 and 50: {10, 30}\n"
          ]
        }
      ]
    },
    {
      "cell_type": "code",
      "source": [
        "#19.\n",
        "set1 = {1, 2, 3}\n",
        "set2 = {3, 4, 5}\n",
        "\n",
        "union_set_method = set1.union(set2)\n",
        "print(f\"Set 1: {set1}\")\n",
        "print(f\"Set 2: {set2}\")\n",
        "print(f\"Union using .union() method: {union_set_method}\")\n",
        "\n",
        "union_set_operator = set1 | set2\n",
        "print(f\"Union using | operator: {union_set_operator}\")\n"
      ],
      "metadata": {
        "colab": {
          "base_uri": "https://localhost:8080/"
        },
        "id": "CIHVeL-SGrs8",
        "outputId": "76262084-03d1-42f0-c9b7-b6dff0cd796a"
      },
      "execution_count": 21,
      "outputs": [
        {
          "output_type": "stream",
          "name": "stdout",
          "text": [
            "Set 1: {1, 2, 3}\n",
            "Set 2: {3, 4, 5}\n",
            "Union using .union() method: {1, 2, 3, 4, 5}\n",
            "Union using | operator: {1, 2, 3, 4, 5}\n"
          ]
        }
      ]
    },
    {
      "cell_type": "code",
      "source": [
        "#20.\n",
        "set_a = {1, 2, 3}\n",
        "set_b = {2, 3, 4}\n",
        "\n",
        "intersection_set_method = set_a.intersection(set_b)\n",
        "print(f\"Set A: {set_a}\")\n",
        "print(f\"Set B: {set_b}\")\n",
        "print(f\"Intersection using .intersection() method: {intersection_set_method}\")\n",
        "\n",
        "intersection_set_operator = set_a & set_b\n",
        "print(f\"Intersection using & operator: {intersection_set_operator}\")\n"
      ],
      "metadata": {
        "colab": {
          "base_uri": "https://localhost:8080/"
        },
        "id": "avXxR8clGrwQ",
        "outputId": "d8761a80-bc29-4535-e77b-fd5a76b7be54"
      },
      "execution_count": 22,
      "outputs": [
        {
          "output_type": "stream",
          "name": "stdout",
          "text": [
            "Set A: {1, 2, 3}\n",
            "Set B: {2, 3, 4}\n",
            "Intersection using .intersection() method: {2, 3}\n",
            "Intersection using & operator: {2, 3}\n"
          ]
        }
      ]
    },
    {
      "cell_type": "code",
      "source": [
        "#21.\n",
        "person_info = {\n",
        "    'name': 'Pallavi',\n",
        "    'age': 25,\n",
        "    'city': 'samastipur'\n",
        "}\n",
        "\n",
        "print(person_info)"
      ],
      "metadata": {
        "colab": {
          "base_uri": "https://localhost:8080/"
        },
        "id": "CRptTdc9Grzd",
        "outputId": "8ca43db1-97ca-4a1b-9310-78053d064658"
      },
      "execution_count": 23,
      "outputs": [
        {
          "output_type": "stream",
          "name": "stdout",
          "text": [
            "{'name': 'Pallavi', 'age': 25, 'city': 'samastipur'}\n"
          ]
        }
      ]
    },
    {
      "cell_type": "code",
      "source": [
        "#22.\n",
        "my_dict = {'name': 'John', 'age': 25}\n",
        "print(f\"Original dictionary: {my_dict}\")\n",
        "\n",
        "my_dict[\"country\"] = \"USA\"\n",
        "\n",
        "print(f\"Dictionary after adding 'country': {my_dict}\")\n"
      ],
      "metadata": {
        "colab": {
          "base_uri": "https://localhost:8080/"
        },
        "id": "nCby_sWFGr2u",
        "outputId": "03f8d796-6637-4ef9-c11c-3d5600d0220b"
      },
      "execution_count": 24,
      "outputs": [
        {
          "output_type": "stream",
          "name": "stdout",
          "text": [
            "Original dictionary: {'name': 'John', 'age': 25}\n",
            "Dictionary after adding 'country': {'name': 'John', 'age': 25, 'country': 'USA'}\n"
          ]
        }
      ]
    },
    {
      "cell_type": "code",
      "source": [
        "#23.\n",
        "person_data = {'name': 'Alice', 'age': 30}\n",
        "\n",
        "name_value = person_data[\"name\"]\n",
        "\n",
        "print(f\"The dictionary is: {person_data}\")\n",
        "print(f\"The value associated with the key 'name' is: '{name_value}'\")\n"
      ],
      "metadata": {
        "colab": {
          "base_uri": "https://localhost:8080/"
        },
        "id": "ekN4NtRaGr5_",
        "outputId": "1c0afad4-ae4b-4402-b6e6-a65443480bcf"
      },
      "execution_count": 25,
      "outputs": [
        {
          "output_type": "stream",
          "name": "stdout",
          "text": [
            "The dictionary is: {'name': 'Alice', 'age': 30}\n",
            "The value associated with the key 'name' is: 'Alice'\n"
          ]
        }
      ]
    },
    {
      "cell_type": "code",
      "source": [
        "#24.\n",
        "student_info = {'name': 'Bob', 'age': 22, 'city': 'New York'}\n",
        "print(f\"Original dictionary: {student_info}\")\n",
        "\n",
        "del student_info[\"age\"]\n",
        "\n",
        "print(f\"Dictionary after removing 'age': {student_info}\")\n"
      ],
      "metadata": {
        "colab": {
          "base_uri": "https://localhost:8080/"
        },
        "id": "8bFe1IOkGr87",
        "outputId": "b986009d-0d69-4553-b17a-8f81a44ea97a"
      },
      "execution_count": 26,
      "outputs": [
        {
          "output_type": "stream",
          "name": "stdout",
          "text": [
            "Original dictionary: {'name': 'Bob', 'age': 22, 'city': 'New York'}\n",
            "Dictionary after removing 'age': {'name': 'Bob', 'city': 'New York'}\n"
          ]
        }
      ]
    },
    {
      "cell_type": "code",
      "source": [
        "#25.\n",
        "person_location = {'name': 'Alice', 'city': 'Paris'}\n",
        "\n",
        "if \"city\" in person_location:\n",
        "    print(f\"The key 'city' exists in the dictionary: {person_location}\")\n",
        "else:\n",
        "    print(f\"The key 'city' does NOT exist in the dictionary: {person_location}\")\n",
        "\n",
        "print(\"\\n--- Checking for a non-existent key ---\")\n",
        "if \"age\" in person_location:\n",
        "    print(f\"The key 'age' exists in the dictionary.\")\n",
        "else:\n",
        "    print(f\"The key 'age' does NOT exist in the dictionary.\")\n"
      ],
      "metadata": {
        "colab": {
          "base_uri": "https://localhost:8080/"
        },
        "id": "CtFzvVbCGsAC",
        "outputId": "43e1f5ff-c31e-4e6a-c1a8-256e2e720dbe"
      },
      "execution_count": 27,
      "outputs": [
        {
          "output_type": "stream",
          "name": "stdout",
          "text": [
            "The key 'city' exists in the dictionary: {'name': 'Alice', 'city': 'Paris'}\n",
            "\n",
            "--- Checking for a non-existent key ---\n",
            "The key 'age' does NOT exist in the dictionary.\n"
          ]
        }
      ]
    },
    {
      "cell_type": "code",
      "source": [
        "#26.\n",
        "my_list = [\"apple\", \"banana\", \"cherry\", 1, 2, 3]\n",
        "print(f\"My List: {my_list}\")\n",
        "\n",
        "my_tuple = (\"red\", \"green\", \"blue\", 10, 20)\n",
        "print(f\"My Tuple: {my_tuple}\")\n",
        "\n",
        "my_dictionary = {\n",
        "    \"name\": \"Alice\",\n",
        "    \"age\": 25,\n",
        "    \"is_student\": True,\n",
        "    \"courses\": [\"Math\", \"Science\"]\n",
        "}\n",
        "print(f\"My Dictionary: {my_dictionary}\")\n"
      ],
      "metadata": {
        "colab": {
          "base_uri": "https://localhost:8080/"
        },
        "id": "EdGIeYFkGsDB",
        "outputId": "deb4ed19-786a-4dbc-b88b-972b72e1a2e9"
      },
      "execution_count": 28,
      "outputs": [
        {
          "output_type": "stream",
          "name": "stdout",
          "text": [
            "My List: ['apple', 'banana', 'cherry', 1, 2, 3]\n",
            "My Tuple: ('red', 'green', 'blue', 10, 20)\n",
            "My Dictionary: {'name': 'Alice', 'age': 25, 'is_student': True, 'courses': ['Math', 'Science']}\n"
          ]
        }
      ]
    },
    {
      "cell_type": "code",
      "source": [
        "#27.\n",
        "import random\n",
        "\n",
        "random_numbers = []\n",
        "\n",
        "for _ in range(5):\n",
        "    random_num = random.randint(1, 100)\n",
        "    random_numbers.append(random_num)\n",
        "\n",
        "print(f\"Original list of random numbers: {random_numbers}\")\n",
        "\n",
        "random_numbers.sort()\n",
        "\n",
        "print(f\"Sorted list (ascending): {random_numbers}\")\n"
      ],
      "metadata": {
        "colab": {
          "base_uri": "https://localhost:8080/"
        },
        "id": "6PnRFk8dGsF8",
        "outputId": "f2cbab6f-6c30-4bcd-b991-9460aa2d6bb1"
      },
      "execution_count": 29,
      "outputs": [
        {
          "output_type": "stream",
          "name": "stdout",
          "text": [
            "Original list of random numbers: [85, 36, 100, 23, 27]\n",
            "Sorted list (ascending): [23, 27, 36, 85, 100]\n"
          ]
        }
      ]
    },
    {
      "cell_type": "code",
      "source": [
        "#28.\n",
        "my_string_list = [\"apple\", \"banana\", \"cherry\", \"date\", \"elderberry\"]\n",
        "\n",
        "print(f\"The list is: {my_string_list}\")\n",
        "\n",
        "element_at_third_index = my_string_list[3]\n",
        "\n",
        "print(f\"The element at the third index is: '{element_at_third_index}'\")\n"
      ],
      "metadata": {
        "colab": {
          "base_uri": "https://localhost:8080/"
        },
        "id": "cb6bQK5KGs2j",
        "outputId": "dafef979-395f-49fe-be2d-cae005c77a1f"
      },
      "execution_count": 30,
      "outputs": [
        {
          "output_type": "stream",
          "name": "stdout",
          "text": [
            "The list is: ['apple', 'banana', 'cherry', 'date', 'elderberry']\n",
            "The element at the third index is: 'date'\n"
          ]
        }
      ]
    },
    {
      "cell_type": "code",
      "source": [
        "#29.\n",
        "dict1 = {\"name\": \"Alice\", \"age\": 30}\n",
        "dict2 = {\"city\": \"New York\", \"occupation\": \"Engineer\"}\n",
        "\n",
        "print(f\"Dictionary 1: {dict1}\")\n",
        "print(f\"Dictionary 2: {dict2}\")\n",
        "\n",
        "combined_dict_update = dict1.copy()\n",
        "combined_dict_update.update(dict2)\n",
        "print(f\"\\nCombined using .update(): {combined_dict_update}\")\n",
        "\n",
        "combined_dict_unpacking = {**dict1, **dict2}\n",
        "print(f\"Combined using ** operator: {combined_dict_unpacking}\")\n",
        "\n",
        "combined_dict_pipe = dict1 | dict2\n",
        "print(f\"Combined using | operator: {combined_dict_pipe}\")\n",
        "\n",
        "dict_overlap1 = {\"a\": 1, \"b\": 2, \"c\": 3}\n",
        "dict_overlap2 = {\"c\": 4, \"d\": 5}\n",
        "combined_overlap = {**dict_overlap1, **dict_overlap2}\n",
        "print(f\"\\nCombined with overlapping keys (c is from dict_overlap2): {combined_overlap}\")\n"
      ],
      "metadata": {
        "colab": {
          "base_uri": "https://localhost:8080/"
        },
        "id": "7vr4SuhDGs5i",
        "outputId": "f01b08ef-6993-4cac-98b1-14f630619895"
      },
      "execution_count": 31,
      "outputs": [
        {
          "output_type": "stream",
          "name": "stdout",
          "text": [
            "Dictionary 1: {'name': 'Alice', 'age': 30}\n",
            "Dictionary 2: {'city': 'New York', 'occupation': 'Engineer'}\n",
            "\n",
            "Combined using .update(): {'name': 'Alice', 'age': 30, 'city': 'New York', 'occupation': 'Engineer'}\n",
            "Combined using ** operator: {'name': 'Alice', 'age': 30, 'city': 'New York', 'occupation': 'Engineer'}\n",
            "Combined using | operator: {'name': 'Alice', 'age': 30, 'city': 'New York', 'occupation': 'Engineer'}\n",
            "\n",
            "Combined with overlapping keys (c is from dict_overlap2): {'a': 1, 'b': 2, 'c': 4, 'd': 5}\n"
          ]
        }
      ]
    },
    {
      "cell_type": "code",
      "source": [
        "#30.\n",
        "my_string_list = [\"apple\", \"banana\", \"cherry\", \"apple\", \"date\", \"banana\"]\n",
        "print(f\"Original List of Strings: {my_string_list}\")\n",
        "\n",
        "my_string_set = set(my_string_list)\n",
        "\n",
        "print(f\"Converted Set of Strings: {my_string_set}\")\n"
      ],
      "metadata": {
        "colab": {
          "base_uri": "https://localhost:8080/"
        },
        "id": "qkJ5GN_rGs8Y",
        "outputId": "64358723-f20a-4dd9-c1b9-3e7101a5de82"
      },
      "execution_count": 32,
      "outputs": [
        {
          "output_type": "stream",
          "name": "stdout",
          "text": [
            "Original List of Strings: ['apple', 'banana', 'cherry', 'apple', 'date', 'banana']\n",
            "Converted Set of Strings: {'apple', 'cherry', 'banana', 'date'}\n"
          ]
        }
      ]
    },
    {
      "cell_type": "code",
      "source": [],
      "metadata": {
        "id": "KgziaaQrGs_i"
      },
      "execution_count": null,
      "outputs": []
    },
    {
      "cell_type": "code",
      "source": [],
      "metadata": {
        "id": "E-YuRTz_GtCc"
      },
      "execution_count": null,
      "outputs": []
    },
    {
      "cell_type": "code",
      "source": [],
      "metadata": {
        "id": "jL5TnbpAGtFi"
      },
      "execution_count": null,
      "outputs": []
    },
    {
      "cell_type": "code",
      "source": [],
      "metadata": {
        "id": "iyXzQ5-9GtIq"
      },
      "execution_count": null,
      "outputs": []
    },
    {
      "cell_type": "code",
      "source": [],
      "metadata": {
        "id": "wq1HOYk8GtLU"
      },
      "execution_count": null,
      "outputs": []
    },
    {
      "cell_type": "code",
      "source": [],
      "metadata": {
        "id": "ROp6OUmQGtOu"
      },
      "execution_count": null,
      "outputs": []
    },
    {
      "cell_type": "code",
      "source": [],
      "metadata": {
        "id": "JgjS-ViYGtSB"
      },
      "execution_count": null,
      "outputs": []
    },
    {
      "cell_type": "code",
      "source": [],
      "metadata": {
        "id": "I7R45gJ6GtVQ"
      },
      "execution_count": null,
      "outputs": []
    },
    {
      "cell_type": "code",
      "source": [],
      "metadata": {
        "id": "qUZsJSnsGtYY"
      },
      "execution_count": null,
      "outputs": []
    },
    {
      "cell_type": "code",
      "source": [],
      "metadata": {
        "id": "s585LHdYGtbo"
      },
      "execution_count": null,
      "outputs": []
    },
    {
      "cell_type": "code",
      "source": [],
      "metadata": {
        "id": "TXfnq827Gtey"
      },
      "execution_count": null,
      "outputs": []
    },
    {
      "cell_type": "code",
      "source": [],
      "metadata": {
        "id": "kltWLZHWGths"
      },
      "execution_count": null,
      "outputs": []
    },
    {
      "cell_type": "code",
      "source": [],
      "metadata": {
        "id": "15xuPZ4kGtk0"
      },
      "execution_count": null,
      "outputs": []
    }
  ]
}